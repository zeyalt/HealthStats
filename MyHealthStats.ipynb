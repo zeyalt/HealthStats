{
 "cells": [
  {
   "cell_type": "markdown",
   "id": "d4ef5c0b",
   "metadata": {},
   "source": [
    "# MyHealthStats"
   ]
  },
  {
   "cell_type": "markdown",
   "id": "16476549",
   "metadata": {},
   "source": [
    "## 1. Import modules"
   ]
  },
  {
   "cell_type": "code",
   "execution_count": 72,
   "id": "2e5425c6",
   "metadata": {},
   "outputs": [],
   "source": [
    "import pandas as pd\n",
    "import plotly.graph_objects as go"
   ]
  },
  {
   "cell_type": "markdown",
   "id": "7066b566",
   "metadata": {},
   "source": [
    "## 2. Data"
   ]
  },
  {
   "cell_type": "markdown",
   "id": "5b1290f4",
   "metadata": {},
   "source": [
    "**Note**: For updating of data in the future, append new data to the `data` dictionary. "
   ]
  },
  {
   "cell_type": "code",
   "execution_count": 175,
   "id": "4411acc3",
   "metadata": {},
   "outputs": [
    {
     "data": {
      "text/html": [
       "<div>\n",
       "<style scoped>\n",
       "    .dataframe tbody tr th:only-of-type {\n",
       "        vertical-align: middle;\n",
       "    }\n",
       "\n",
       "    .dataframe tbody tr th {\n",
       "        vertical-align: top;\n",
       "    }\n",
       "\n",
       "    .dataframe thead th {\n",
       "        text-align: right;\n",
       "    }\n",
       "</style>\n",
       "<table border=\"1\" class=\"dataframe\">\n",
       "  <thead>\n",
       "    <tr style=\"text-align: right;\">\n",
       "      <th></th>\n",
       "      <th>date</th>\n",
       "      <th>glucose</th>\n",
       "      <th>total_chol</th>\n",
       "      <th>triglyc</th>\n",
       "      <th>hdl_chol</th>\n",
       "      <th>ldl_chol</th>\n",
       "      <th>weight</th>\n",
       "      <th>height</th>\n",
       "    </tr>\n",
       "  </thead>\n",
       "  <tbody>\n",
       "    <tr>\n",
       "      <th>0</th>\n",
       "      <td>2009-03-05</td>\n",
       "      <td>85</td>\n",
       "      <td>190</td>\n",
       "      <td>62</td>\n",
       "      <td>59</td>\n",
       "      <td>118</td>\n",
       "      <td>66.3</td>\n",
       "      <td>1.76</td>\n",
       "    </tr>\n",
       "    <tr>\n",
       "      <th>1</th>\n",
       "      <td>2011-01-21</td>\n",
       "      <td>88</td>\n",
       "      <td>169</td>\n",
       "      <td>65</td>\n",
       "      <td>50</td>\n",
       "      <td>106</td>\n",
       "      <td>67.5</td>\n",
       "      <td>1.76</td>\n",
       "    </tr>\n",
       "    <tr>\n",
       "      <th>2</th>\n",
       "      <td>2011-06-14</td>\n",
       "      <td>74</td>\n",
       "      <td>168</td>\n",
       "      <td>97</td>\n",
       "      <td>56</td>\n",
       "      <td>93</td>\n",
       "      <td>69.0</td>\n",
       "      <td>1.75</td>\n",
       "    </tr>\n",
       "    <tr>\n",
       "      <th>3</th>\n",
       "      <td>2014-08-27</td>\n",
       "      <td>87</td>\n",
       "      <td>194</td>\n",
       "      <td>83</td>\n",
       "      <td>49</td>\n",
       "      <td>129</td>\n",
       "      <td>72.6</td>\n",
       "      <td>1.77</td>\n",
       "    </tr>\n",
       "    <tr>\n",
       "      <th>4</th>\n",
       "      <td>2016-07-28</td>\n",
       "      <td>90</td>\n",
       "      <td>218</td>\n",
       "      <td>66</td>\n",
       "      <td>58</td>\n",
       "      <td>147</td>\n",
       "      <td>73.4</td>\n",
       "      <td>1.75</td>\n",
       "    </tr>\n",
       "    <tr>\n",
       "      <th>5</th>\n",
       "      <td>2017-09-14</td>\n",
       "      <td>83</td>\n",
       "      <td>188</td>\n",
       "      <td>49</td>\n",
       "      <td>54</td>\n",
       "      <td>125</td>\n",
       "      <td>72.0</td>\n",
       "      <td>1.75</td>\n",
       "    </tr>\n",
       "    <tr>\n",
       "      <th>6</th>\n",
       "      <td>2019-08-01</td>\n",
       "      <td>85</td>\n",
       "      <td>161</td>\n",
       "      <td>43</td>\n",
       "      <td>46</td>\n",
       "      <td>107</td>\n",
       "      <td>73.6</td>\n",
       "      <td>1.74</td>\n",
       "    </tr>\n",
       "    <tr>\n",
       "      <th>7</th>\n",
       "      <td>2021-12-28</td>\n",
       "      <td>81</td>\n",
       "      <td>189</td>\n",
       "      <td>53</td>\n",
       "      <td>54</td>\n",
       "      <td>125</td>\n",
       "      <td>71.0</td>\n",
       "      <td>1.74</td>\n",
       "    </tr>\n",
       "  </tbody>\n",
       "</table>\n",
       "</div>"
      ],
      "text/plain": [
       "        date  glucose  total_chol  triglyc  hdl_chol  ldl_chol  weight  height\n",
       "0 2009-03-05       85         190       62        59       118    66.3    1.76\n",
       "1 2011-01-21       88         169       65        50       106    67.5    1.76\n",
       "2 2011-06-14       74         168       97        56        93    69.0    1.75\n",
       "3 2014-08-27       87         194       83        49       129    72.6    1.77\n",
       "4 2016-07-28       90         218       66        58       147    73.4    1.75\n",
       "5 2017-09-14       83         188       49        54       125    72.0    1.75\n",
       "6 2019-08-01       85         161       43        46       107    73.6    1.74\n",
       "7 2021-12-28       81         189       53        54       125    71.0    1.74"
      ]
     },
     "execution_count": 175,
     "metadata": {},
     "output_type": "execute_result"
    }
   ],
   "source": [
    "data = {'date': ['2009-03-05', '2011-01-21', '2011-06-14', '2014-08-27', '2016-07-28', '2017-09-14', '2019-08-01', '2021-12-28'],\n",
    "        'glucose': [85, 88, 74, 87, 90, 83, 85, 81],\n",
    "        'total_chol': [190, 169, 168, 194, 218, 188, 161, 189],\n",
    "        'triglyc': [62, 65, 97, 83, 66, 49, 43, 53],\n",
    "        'hdl_chol': [59, 50, 56, 49, 58, 54, 46, 54],\n",
    "        'ldl_chol': [118, 106, 93, 129, 147, 125, 107, 125],\n",
    "        'weight': [66.3, 67.5, 69, 72.6, 73.4, 72, 73.6, 71], \n",
    "        'height': [1.76, 1.76, 1.75, 1.77, 1.75, 1.75, 1.74, 1.74]}\n",
    "\n",
    "df = pd.DataFrame(data)\n",
    "df['date'] = pd.to_datetime(df['date'])\n",
    "df"
   ]
  },
  {
   "cell_type": "markdown",
   "id": "da345eba",
   "metadata": {},
   "source": [
    "## 3. Visualise"
   ]
  },
  {
   "cell_type": "code",
   "execution_count": 176,
   "id": "f305de37",
   "metadata": {},
   "outputs": [],
   "source": [
    "def plot(option):\n",
    "    MAPPING = {'Glucose': 'glucose', 'Total Cholesterol': 'total_chol', 'Triglycerides': 'triglyc', \n",
    "               'HDL Cholesterol': 'hdl_chol', 'LDL Cholesterol': 'ldl_chol'}\n",
    "    OPTIMAL_RANGE = {'glucose': (70, 108), 'total_chol': (0, 199), 'triglyc': (0, 150, 199), \n",
    "                     'hdl_chol': (40, 60, 180), 'ldl_chol': (0, 100, 129)}\n",
    "    ATTRIBUTE = MAPPING.get(OPTION)\n",
    "    \n",
    "    if ATTRIBUTE in ['glucose', 'total_chol']:\n",
    "        MIN = OPTIMAL_RANGE.get(ATTRIBUTE)[0]\n",
    "        MAX = OPTIMAL_RANGE.get(ATTRIBUTE)[1]\n",
    "        Y_LOWER = df[ATTRIBUTE].min() - 30 if df[ATTRIBUTE].min() < MIN else MIN - 30\n",
    "        Y_UPPER = df[ATTRIBUTE].max() + 30 if df[ATTRIBUTE].max() >= MAX else MAX + 30\n",
    "        \n",
    "        fig = go.Figure([\n",
    "            go.Scatter(\n",
    "                name='Upper',\n",
    "                x=df['date'],\n",
    "                y=[MAX]*len(df),\n",
    "                mode='lines',\n",
    "                marker=dict(color=\"#444\"),\n",
    "                line=dict(width=1),\n",
    "                showlegend=False,\n",
    "            ),\n",
    "            go.Scatter(\n",
    "                name='Lower',\n",
    "                x=df['date'],\n",
    "                y=[MIN]*len(df),\n",
    "                marker=dict(color=\"#444\"),\n",
    "                line=dict(width=1),\n",
    "                mode='lines',\n",
    "                fillcolor='rgba(0, 255, 0, 0.3)',\n",
    "                fill='tonexty',\n",
    "                showlegend=False,\n",
    "            ),\n",
    "            go.Scatter(\n",
    "                x=[pd.to_datetime('2016-01-01')],\n",
    "                y=[0.75*(MAX-MIN)+MIN],\n",
    "                mode=\"text\",\n",
    "                text=[\"Optimal\"],\n",
    "                textposition=\"bottom center\",\n",
    "                showlegend=False, \n",
    "                hoverinfo='skip'\n",
    "            ),\n",
    "            go.Scatter(\n",
    "                name='mg/dL',\n",
    "                x=df['date'],\n",
    "                y=df[ATTRIBUTE],\n",
    "                marker=dict(color='rgb(0, 0, 255)'),\n",
    "                mode='lines+markers',\n",
    "                line=dict(color='rgb(0, 0, 255)'),\n",
    "                showlegend=False,\n",
    "            )\n",
    "        ])\n",
    "    \n",
    "    elif ATTRIBUTE in ['hdl_chol']:\n",
    "        MIN = OPTIMAL_RANGE.get(ATTRIBUTE)[0]\n",
    "        MID = OPTIMAL_RANGE.get(ATTRIBUTE)[1]\n",
    "        MAX = OPTIMAL_RANGE.get(ATTRIBUTE)[2]\n",
    "        Y_LOWER = df[ATTRIBUTE].min() - 30 if df[ATTRIBUTE].min() < MIN else MIN - 30\n",
    "        Y_UPPER = df[ATTRIBUTE].max() if df[ATTRIBUTE].max() >= MAX else MAX\n",
    "    \n",
    "        fig = go.Figure([\n",
    "            go.Scatter(\n",
    "                x=df['date'],\n",
    "                y=[MAX]*len(df),\n",
    "                mode='lines',\n",
    "                marker=dict(color=\"#444\"),\n",
    "                line=dict(width=0),\n",
    "                showlegend=False,\n",
    "                hoverinfo='skip'\n",
    "            ),\n",
    "            go.Scatter(\n",
    "                name='Mid',\n",
    "                x=df['date'],\n",
    "                y=[MID]*len(df),\n",
    "                marker=dict(color=\"#444\"),\n",
    "                line=dict(width=1),\n",
    "                mode='lines',\n",
    "                fillcolor='rgba(0, 255, 0, 0.3)',\n",
    "                fill='tonexty',\n",
    "                showlegend=False,\n",
    "            ),\n",
    "            go.Scatter(\n",
    "                name='Lower',\n",
    "                x=df['date'],\n",
    "                y=[MIN]*len(df),\n",
    "                marker=dict(color=\"#444\"),\n",
    "                line=dict(width=1),\n",
    "                mode='lines',\n",
    "                fillcolor='rgba(255, 255, 0, 0.3)',\n",
    "                fill='tonexty',\n",
    "                showlegend=False,\n",
    "            ),\n",
    "            go.Scatter(\n",
    "                x=[pd.to_datetime('2016-01-01')],\n",
    "                y=[0.75*(MAX-MIN)+MIN],\n",
    "                mode=\"text\",\n",
    "                text=[\"Optimal\"],\n",
    "                textposition=\"bottom center\",\n",
    "                showlegend=False, \n",
    "                hoverinfo='skip'\n",
    "            ),\n",
    "            go.Scatter(\n",
    "                x=[pd.to_datetime('2016-01-01')],\n",
    "                y=[0.08*(MAX-MIN)+MIN],\n",
    "                mode=\"text\",\n",
    "                text=[\"Desirable\"],\n",
    "                textposition=\"bottom center\",\n",
    "                showlegend=False, \n",
    "                hoverinfo='skip'\n",
    "            ),\n",
    "            go.Scatter(\n",
    "                name='mg/dL',\n",
    "                x=df['date'],\n",
    "                y=df[ATTRIBUTE],\n",
    "                marker=dict(color='rgb(0, 0, 255)'),\n",
    "                mode='lines+markers',\n",
    "                line=dict(color='rgb(0, 0, 255)'),\n",
    "                showlegend=False,\n",
    "            )\n",
    "        ])\n",
    "\n",
    "    elif ATTRIBUTE in ['ldl_chol', 'triglyc']:\n",
    "        MIN = OPTIMAL_RANGE.get(ATTRIBUTE)[0]\n",
    "        MID = OPTIMAL_RANGE.get(ATTRIBUTE)[1]\n",
    "        MAX = OPTIMAL_RANGE.get(ATTRIBUTE)[2]\n",
    "        Y_LOWER = df[ATTRIBUTE].min() - 30 if df[ATTRIBUTE].min() < OPTIMAL_RANGE.get(ATTRIBUTE)[0]\\\n",
    "                                            else OPTIMAL_RANGE.get(ATTRIBUTE)[0] - 30\n",
    "        Y_UPPER = df[ATTRIBUTE].max() + 30 if df[ATTRIBUTE].max() >= OPTIMAL_RANGE.get(ATTRIBUTE)[2]\\\n",
    "                                            else OPTIMAL_RANGE.get(ATTRIBUTE)[2] + 30\n",
    "    \n",
    "        fig = go.Figure([\n",
    "            go.Scatter(\n",
    "                name='Upper',\n",
    "                x=df['date'],\n",
    "                y=[MAX]*len(df),\n",
    "                mode='lines',\n",
    "                marker=dict(color=\"#444\"),\n",
    "                line=dict(width=1, dash='dot'),\n",
    "                showlegend=False,\n",
    "            ),\n",
    "            go.Scatter(\n",
    "                name='Mid',\n",
    "                x=df['date'],\n",
    "                y=[MID]*len(df),\n",
    "                marker=dict(color=\"#444\"),\n",
    "                line=dict(width=1),\n",
    "                mode='lines',\n",
    "                fillcolor='rgba(255, 255, 0, 0.3)',\n",
    "                fill='tonexty',\n",
    "                showlegend=False,\n",
    "            ),\n",
    "            go.Scatter(\n",
    "                name='Lower',\n",
    "                x=df['date'],\n",
    "                y=[MIN]*len(df),\n",
    "                marker=dict(color=\"#444\"),\n",
    "                line=dict(width=1),\n",
    "                mode='lines',\n",
    "                fillcolor='rgba(0, 255, 0, 0.3)',\n",
    "                fill='tonexty',\n",
    "                showlegend=False,\n",
    "            ),\n",
    "            go.Scatter(\n",
    "                x=[pd.to_datetime('2016-01-01')],\n",
    "                y=[0.25*(MID-MIN)+MIN],\n",
    "                mode=\"text\",\n",
    "                text=[\"Optimal\"],\n",
    "                textposition=\"bottom center\",\n",
    "                showlegend=False, \n",
    "                hoverinfo='skip'\n",
    "            ),\n",
    "            go.Scatter(\n",
    "                x=[pd.to_datetime('2016-01-01')],\n",
    "                y=[0.5*(MAX-MID)+MID],\n",
    "                mode=\"text\",\n",
    "                text=[\"Desirable\"],\n",
    "                textposition=\"bottom center\",\n",
    "                showlegend=False, \n",
    "                hoverinfo='skip'\n",
    "            ),\n",
    "            go.Scatter(\n",
    "                name='mg/dL',\n",
    "                x=df['date'],\n",
    "                y=df[ATTRIBUTE],\n",
    "                marker=dict(color='rgb(0, 0, 255)'),\n",
    "                mode='lines+markers',\n",
    "                line=dict(color='rgb(0, 0, 255)'),\n",
    "                showlegend=False,\n",
    "            )\n",
    "        ])\n",
    "    \n",
    "    fig.update_layout(\n",
    "        yaxis_range=[Y_LOWER, Y_UPPER],\n",
    "        yaxis_title='{} (mg/dL)'.format(OPTION), \n",
    "        xaxis_title='Year',\n",
    "        title='Changes in My {} Levels Over The Years'.format(OPTION),\n",
    "        hovermode=\"x\"\n",
    "    )\n",
    "\n",
    "    fig.show()"
   ]
  },
  {
   "cell_type": "code",
   "execution_count": 177,
   "id": "27d1643e",
   "metadata": {},
   "outputs": [
    {
     "data": {
      "application/vnd.plotly.v1+json": {
       "config": {
        "plotlyServerURL": "https://plot.ly"
       },
       "data": [
        {
         "line": {
          "width": 1
         },
         "marker": {
          "color": "#444"
         },
         "mode": "lines",
         "name": "Upper",
         "showlegend": false,
         "type": "scatter",
         "x": [
          "2009-03-05T00:00:00",
          "2011-01-21T00:00:00",
          "2011-06-14T00:00:00",
          "2014-08-27T00:00:00",
          "2016-07-28T00:00:00",
          "2017-09-14T00:00:00",
          "2019-08-01T00:00:00",
          "2021-12-28T00:00:00"
         ],
         "y": [
          108,
          108,
          108,
          108,
          108,
          108,
          108,
          108
         ]
        },
        {
         "fill": "tonexty",
         "fillcolor": "rgba(0, 255, 0, 0.3)",
         "line": {
          "width": 1
         },
         "marker": {
          "color": "#444"
         },
         "mode": "lines",
         "name": "Lower",
         "showlegend": false,
         "type": "scatter",
         "x": [
          "2009-03-05T00:00:00",
          "2011-01-21T00:00:00",
          "2011-06-14T00:00:00",
          "2014-08-27T00:00:00",
          "2016-07-28T00:00:00",
          "2017-09-14T00:00:00",
          "2019-08-01T00:00:00",
          "2021-12-28T00:00:00"
         ],
         "y": [
          70,
          70,
          70,
          70,
          70,
          70,
          70,
          70
         ]
        },
        {
         "hoverinfo": "skip",
         "mode": "text",
         "showlegend": false,
         "text": [
          "Optimal"
         ],
         "textposition": "bottom center",
         "type": "scatter",
         "x": [
          "2016-01-01T00:00:00"
         ],
         "y": [
          98.5
         ]
        },
        {
         "line": {
          "color": "rgb(0, 0, 255)"
         },
         "marker": {
          "color": "rgb(0, 0, 255)"
         },
         "mode": "lines+markers",
         "name": "mg/dL",
         "showlegend": false,
         "type": "scatter",
         "x": [
          "2009-03-05T00:00:00",
          "2011-01-21T00:00:00",
          "2011-06-14T00:00:00",
          "2014-08-27T00:00:00",
          "2016-07-28T00:00:00",
          "2017-09-14T00:00:00",
          "2019-08-01T00:00:00",
          "2021-12-28T00:00:00"
         ],
         "y": [
          85,
          88,
          74,
          87,
          90,
          83,
          85,
          81
         ]
        }
       ],
       "layout": {
        "hovermode": "x",
        "template": {
         "data": {
          "bar": [
           {
            "error_x": {
             "color": "#2a3f5f"
            },
            "error_y": {
             "color": "#2a3f5f"
            },
            "marker": {
             "line": {
              "color": "#E5ECF6",
              "width": 0.5
             },
             "pattern": {
              "fillmode": "overlay",
              "size": 10,
              "solidity": 0.2
             }
            },
            "type": "bar"
           }
          ],
          "barpolar": [
           {
            "marker": {
             "line": {
              "color": "#E5ECF6",
              "width": 0.5
             },
             "pattern": {
              "fillmode": "overlay",
              "size": 10,
              "solidity": 0.2
             }
            },
            "type": "barpolar"
           }
          ],
          "carpet": [
           {
            "aaxis": {
             "endlinecolor": "#2a3f5f",
             "gridcolor": "white",
             "linecolor": "white",
             "minorgridcolor": "white",
             "startlinecolor": "#2a3f5f"
            },
            "baxis": {
             "endlinecolor": "#2a3f5f",
             "gridcolor": "white",
             "linecolor": "white",
             "minorgridcolor": "white",
             "startlinecolor": "#2a3f5f"
            },
            "type": "carpet"
           }
          ],
          "choropleth": [
           {
            "colorbar": {
             "outlinewidth": 0,
             "ticks": ""
            },
            "type": "choropleth"
           }
          ],
          "contour": [
           {
            "colorbar": {
             "outlinewidth": 0,
             "ticks": ""
            },
            "colorscale": [
             [
              0,
              "#0d0887"
             ],
             [
              0.1111111111111111,
              "#46039f"
             ],
             [
              0.2222222222222222,
              "#7201a8"
             ],
             [
              0.3333333333333333,
              "#9c179e"
             ],
             [
              0.4444444444444444,
              "#bd3786"
             ],
             [
              0.5555555555555556,
              "#d8576b"
             ],
             [
              0.6666666666666666,
              "#ed7953"
             ],
             [
              0.7777777777777778,
              "#fb9f3a"
             ],
             [
              0.8888888888888888,
              "#fdca26"
             ],
             [
              1,
              "#f0f921"
             ]
            ],
            "type": "contour"
           }
          ],
          "contourcarpet": [
           {
            "colorbar": {
             "outlinewidth": 0,
             "ticks": ""
            },
            "type": "contourcarpet"
           }
          ],
          "heatmap": [
           {
            "colorbar": {
             "outlinewidth": 0,
             "ticks": ""
            },
            "colorscale": [
             [
              0,
              "#0d0887"
             ],
             [
              0.1111111111111111,
              "#46039f"
             ],
             [
              0.2222222222222222,
              "#7201a8"
             ],
             [
              0.3333333333333333,
              "#9c179e"
             ],
             [
              0.4444444444444444,
              "#bd3786"
             ],
             [
              0.5555555555555556,
              "#d8576b"
             ],
             [
              0.6666666666666666,
              "#ed7953"
             ],
             [
              0.7777777777777778,
              "#fb9f3a"
             ],
             [
              0.8888888888888888,
              "#fdca26"
             ],
             [
              1,
              "#f0f921"
             ]
            ],
            "type": "heatmap"
           }
          ],
          "heatmapgl": [
           {
            "colorbar": {
             "outlinewidth": 0,
             "ticks": ""
            },
            "colorscale": [
             [
              0,
              "#0d0887"
             ],
             [
              0.1111111111111111,
              "#46039f"
             ],
             [
              0.2222222222222222,
              "#7201a8"
             ],
             [
              0.3333333333333333,
              "#9c179e"
             ],
             [
              0.4444444444444444,
              "#bd3786"
             ],
             [
              0.5555555555555556,
              "#d8576b"
             ],
             [
              0.6666666666666666,
              "#ed7953"
             ],
             [
              0.7777777777777778,
              "#fb9f3a"
             ],
             [
              0.8888888888888888,
              "#fdca26"
             ],
             [
              1,
              "#f0f921"
             ]
            ],
            "type": "heatmapgl"
           }
          ],
          "histogram": [
           {
            "marker": {
             "pattern": {
              "fillmode": "overlay",
              "size": 10,
              "solidity": 0.2
             }
            },
            "type": "histogram"
           }
          ],
          "histogram2d": [
           {
            "colorbar": {
             "outlinewidth": 0,
             "ticks": ""
            },
            "colorscale": [
             [
              0,
              "#0d0887"
             ],
             [
              0.1111111111111111,
              "#46039f"
             ],
             [
              0.2222222222222222,
              "#7201a8"
             ],
             [
              0.3333333333333333,
              "#9c179e"
             ],
             [
              0.4444444444444444,
              "#bd3786"
             ],
             [
              0.5555555555555556,
              "#d8576b"
             ],
             [
              0.6666666666666666,
              "#ed7953"
             ],
             [
              0.7777777777777778,
              "#fb9f3a"
             ],
             [
              0.8888888888888888,
              "#fdca26"
             ],
             [
              1,
              "#f0f921"
             ]
            ],
            "type": "histogram2d"
           }
          ],
          "histogram2dcontour": [
           {
            "colorbar": {
             "outlinewidth": 0,
             "ticks": ""
            },
            "colorscale": [
             [
              0,
              "#0d0887"
             ],
             [
              0.1111111111111111,
              "#46039f"
             ],
             [
              0.2222222222222222,
              "#7201a8"
             ],
             [
              0.3333333333333333,
              "#9c179e"
             ],
             [
              0.4444444444444444,
              "#bd3786"
             ],
             [
              0.5555555555555556,
              "#d8576b"
             ],
             [
              0.6666666666666666,
              "#ed7953"
             ],
             [
              0.7777777777777778,
              "#fb9f3a"
             ],
             [
              0.8888888888888888,
              "#fdca26"
             ],
             [
              1,
              "#f0f921"
             ]
            ],
            "type": "histogram2dcontour"
           }
          ],
          "mesh3d": [
           {
            "colorbar": {
             "outlinewidth": 0,
             "ticks": ""
            },
            "type": "mesh3d"
           }
          ],
          "parcoords": [
           {
            "line": {
             "colorbar": {
              "outlinewidth": 0,
              "ticks": ""
             }
            },
            "type": "parcoords"
           }
          ],
          "pie": [
           {
            "automargin": true,
            "type": "pie"
           }
          ],
          "scatter": [
           {
            "marker": {
             "colorbar": {
              "outlinewidth": 0,
              "ticks": ""
             }
            },
            "type": "scatter"
           }
          ],
          "scatter3d": [
           {
            "line": {
             "colorbar": {
              "outlinewidth": 0,
              "ticks": ""
             }
            },
            "marker": {
             "colorbar": {
              "outlinewidth": 0,
              "ticks": ""
             }
            },
            "type": "scatter3d"
           }
          ],
          "scattercarpet": [
           {
            "marker": {
             "colorbar": {
              "outlinewidth": 0,
              "ticks": ""
             }
            },
            "type": "scattercarpet"
           }
          ],
          "scattergeo": [
           {
            "marker": {
             "colorbar": {
              "outlinewidth": 0,
              "ticks": ""
             }
            },
            "type": "scattergeo"
           }
          ],
          "scattergl": [
           {
            "marker": {
             "colorbar": {
              "outlinewidth": 0,
              "ticks": ""
             }
            },
            "type": "scattergl"
           }
          ],
          "scattermapbox": [
           {
            "marker": {
             "colorbar": {
              "outlinewidth": 0,
              "ticks": ""
             }
            },
            "type": "scattermapbox"
           }
          ],
          "scatterpolar": [
           {
            "marker": {
             "colorbar": {
              "outlinewidth": 0,
              "ticks": ""
             }
            },
            "type": "scatterpolar"
           }
          ],
          "scatterpolargl": [
           {
            "marker": {
             "colorbar": {
              "outlinewidth": 0,
              "ticks": ""
             }
            },
            "type": "scatterpolargl"
           }
          ],
          "scatterternary": [
           {
            "marker": {
             "colorbar": {
              "outlinewidth": 0,
              "ticks": ""
             }
            },
            "type": "scatterternary"
           }
          ],
          "surface": [
           {
            "colorbar": {
             "outlinewidth": 0,
             "ticks": ""
            },
            "colorscale": [
             [
              0,
              "#0d0887"
             ],
             [
              0.1111111111111111,
              "#46039f"
             ],
             [
              0.2222222222222222,
              "#7201a8"
             ],
             [
              0.3333333333333333,
              "#9c179e"
             ],
             [
              0.4444444444444444,
              "#bd3786"
             ],
             [
              0.5555555555555556,
              "#d8576b"
             ],
             [
              0.6666666666666666,
              "#ed7953"
             ],
             [
              0.7777777777777778,
              "#fb9f3a"
             ],
             [
              0.8888888888888888,
              "#fdca26"
             ],
             [
              1,
              "#f0f921"
             ]
            ],
            "type": "surface"
           }
          ],
          "table": [
           {
            "cells": {
             "fill": {
              "color": "#EBF0F8"
             },
             "line": {
              "color": "white"
             }
            },
            "header": {
             "fill": {
              "color": "#C8D4E3"
             },
             "line": {
              "color": "white"
             }
            },
            "type": "table"
           }
          ]
         },
         "layout": {
          "annotationdefaults": {
           "arrowcolor": "#2a3f5f",
           "arrowhead": 0,
           "arrowwidth": 1
          },
          "autotypenumbers": "strict",
          "coloraxis": {
           "colorbar": {
            "outlinewidth": 0,
            "ticks": ""
           }
          },
          "colorscale": {
           "diverging": [
            [
             0,
             "#8e0152"
            ],
            [
             0.1,
             "#c51b7d"
            ],
            [
             0.2,
             "#de77ae"
            ],
            [
             0.3,
             "#f1b6da"
            ],
            [
             0.4,
             "#fde0ef"
            ],
            [
             0.5,
             "#f7f7f7"
            ],
            [
             0.6,
             "#e6f5d0"
            ],
            [
             0.7,
             "#b8e186"
            ],
            [
             0.8,
             "#7fbc41"
            ],
            [
             0.9,
             "#4d9221"
            ],
            [
             1,
             "#276419"
            ]
           ],
           "sequential": [
            [
             0,
             "#0d0887"
            ],
            [
             0.1111111111111111,
             "#46039f"
            ],
            [
             0.2222222222222222,
             "#7201a8"
            ],
            [
             0.3333333333333333,
             "#9c179e"
            ],
            [
             0.4444444444444444,
             "#bd3786"
            ],
            [
             0.5555555555555556,
             "#d8576b"
            ],
            [
             0.6666666666666666,
             "#ed7953"
            ],
            [
             0.7777777777777778,
             "#fb9f3a"
            ],
            [
             0.8888888888888888,
             "#fdca26"
            ],
            [
             1,
             "#f0f921"
            ]
           ],
           "sequentialminus": [
            [
             0,
             "#0d0887"
            ],
            [
             0.1111111111111111,
             "#46039f"
            ],
            [
             0.2222222222222222,
             "#7201a8"
            ],
            [
             0.3333333333333333,
             "#9c179e"
            ],
            [
             0.4444444444444444,
             "#bd3786"
            ],
            [
             0.5555555555555556,
             "#d8576b"
            ],
            [
             0.6666666666666666,
             "#ed7953"
            ],
            [
             0.7777777777777778,
             "#fb9f3a"
            ],
            [
             0.8888888888888888,
             "#fdca26"
            ],
            [
             1,
             "#f0f921"
            ]
           ]
          },
          "colorway": [
           "#636efa",
           "#EF553B",
           "#00cc96",
           "#ab63fa",
           "#FFA15A",
           "#19d3f3",
           "#FF6692",
           "#B6E880",
           "#FF97FF",
           "#FECB52"
          ],
          "font": {
           "color": "#2a3f5f"
          },
          "geo": {
           "bgcolor": "white",
           "lakecolor": "white",
           "landcolor": "#E5ECF6",
           "showlakes": true,
           "showland": true,
           "subunitcolor": "white"
          },
          "hoverlabel": {
           "align": "left"
          },
          "hovermode": "closest",
          "mapbox": {
           "style": "light"
          },
          "paper_bgcolor": "white",
          "plot_bgcolor": "#E5ECF6",
          "polar": {
           "angularaxis": {
            "gridcolor": "white",
            "linecolor": "white",
            "ticks": ""
           },
           "bgcolor": "#E5ECF6",
           "radialaxis": {
            "gridcolor": "white",
            "linecolor": "white",
            "ticks": ""
           }
          },
          "scene": {
           "xaxis": {
            "backgroundcolor": "#E5ECF6",
            "gridcolor": "white",
            "gridwidth": 2,
            "linecolor": "white",
            "showbackground": true,
            "ticks": "",
            "zerolinecolor": "white"
           },
           "yaxis": {
            "backgroundcolor": "#E5ECF6",
            "gridcolor": "white",
            "gridwidth": 2,
            "linecolor": "white",
            "showbackground": true,
            "ticks": "",
            "zerolinecolor": "white"
           },
           "zaxis": {
            "backgroundcolor": "#E5ECF6",
            "gridcolor": "white",
            "gridwidth": 2,
            "linecolor": "white",
            "showbackground": true,
            "ticks": "",
            "zerolinecolor": "white"
           }
          },
          "shapedefaults": {
           "line": {
            "color": "#2a3f5f"
           }
          },
          "ternary": {
           "aaxis": {
            "gridcolor": "white",
            "linecolor": "white",
            "ticks": ""
           },
           "baxis": {
            "gridcolor": "white",
            "linecolor": "white",
            "ticks": ""
           },
           "bgcolor": "#E5ECF6",
           "caxis": {
            "gridcolor": "white",
            "linecolor": "white",
            "ticks": ""
           }
          },
          "title": {
           "x": 0.05
          },
          "xaxis": {
           "automargin": true,
           "gridcolor": "white",
           "linecolor": "white",
           "ticks": "",
           "title": {
            "standoff": 15
           },
           "zerolinecolor": "white",
           "zerolinewidth": 2
          },
          "yaxis": {
           "automargin": true,
           "gridcolor": "white",
           "linecolor": "white",
           "ticks": "",
           "title": {
            "standoff": 15
           },
           "zerolinecolor": "white",
           "zerolinewidth": 2
          }
         }
        },
        "title": {
         "text": "Changes in My Glucose Levels Over The Years"
        },
        "xaxis": {
         "title": {
          "text": "Year"
         }
        },
        "yaxis": {
         "range": [
          40,
          138
         ],
         "title": {
          "text": "Glucose (mg/dL)"
         }
        }
       }
      },
      "text/html": [
       "<div>                            <div id=\"1fdc4451-a3e2-4754-954f-d8d5ed5757a1\" class=\"plotly-graph-div\" style=\"height:525px; width:100%;\"></div>            <script type=\"text/javascript\">                require([\"plotly\"], function(Plotly) {                    window.PLOTLYENV=window.PLOTLYENV || {};                                    if (document.getElementById(\"1fdc4451-a3e2-4754-954f-d8d5ed5757a1\")) {                    Plotly.newPlot(                        \"1fdc4451-a3e2-4754-954f-d8d5ed5757a1\",                        [{\"line\":{\"width\":1},\"marker\":{\"color\":\"#444\"},\"mode\":\"lines\",\"name\":\"Upper\",\"showlegend\":false,\"x\":[\"2009-03-05T00:00:00\",\"2011-01-21T00:00:00\",\"2011-06-14T00:00:00\",\"2014-08-27T00:00:00\",\"2016-07-28T00:00:00\",\"2017-09-14T00:00:00\",\"2019-08-01T00:00:00\",\"2021-12-28T00:00:00\"],\"y\":[108,108,108,108,108,108,108,108],\"type\":\"scatter\"},{\"fill\":\"tonexty\",\"fillcolor\":\"rgba(0, 255, 0, 0.3)\",\"line\":{\"width\":1},\"marker\":{\"color\":\"#444\"},\"mode\":\"lines\",\"name\":\"Lower\",\"showlegend\":false,\"x\":[\"2009-03-05T00:00:00\",\"2011-01-21T00:00:00\",\"2011-06-14T00:00:00\",\"2014-08-27T00:00:00\",\"2016-07-28T00:00:00\",\"2017-09-14T00:00:00\",\"2019-08-01T00:00:00\",\"2021-12-28T00:00:00\"],\"y\":[70,70,70,70,70,70,70,70],\"type\":\"scatter\"},{\"hoverinfo\":\"skip\",\"mode\":\"text\",\"showlegend\":false,\"text\":[\"Optimal\"],\"textposition\":\"bottom center\",\"x\":[\"2016-01-01T00:00:00\"],\"y\":[98.5],\"type\":\"scatter\"},{\"line\":{\"color\":\"rgb(0, 0, 255)\"},\"marker\":{\"color\":\"rgb(0, 0, 255)\"},\"mode\":\"lines+markers\",\"name\":\"mg/dL\",\"showlegend\":false,\"x\":[\"2009-03-05T00:00:00\",\"2011-01-21T00:00:00\",\"2011-06-14T00:00:00\",\"2014-08-27T00:00:00\",\"2016-07-28T00:00:00\",\"2017-09-14T00:00:00\",\"2019-08-01T00:00:00\",\"2021-12-28T00:00:00\"],\"y\":[85,88,74,87,90,83,85,81],\"type\":\"scatter\"}],                        {\"template\":{\"data\":{\"bar\":[{\"error_x\":{\"color\":\"#2a3f5f\"},\"error_y\":{\"color\":\"#2a3f5f\"},\"marker\":{\"line\":{\"color\":\"#E5ECF6\",\"width\":0.5},\"pattern\":{\"fillmode\":\"overlay\",\"size\":10,\"solidity\":0.2}},\"type\":\"bar\"}],\"barpolar\":[{\"marker\":{\"line\":{\"color\":\"#E5ECF6\",\"width\":0.5},\"pattern\":{\"fillmode\":\"overlay\",\"size\":10,\"solidity\":0.2}},\"type\":\"barpolar\"}],\"carpet\":[{\"aaxis\":{\"endlinecolor\":\"#2a3f5f\",\"gridcolor\":\"white\",\"linecolor\":\"white\",\"minorgridcolor\":\"white\",\"startlinecolor\":\"#2a3f5f\"},\"baxis\":{\"endlinecolor\":\"#2a3f5f\",\"gridcolor\":\"white\",\"linecolor\":\"white\",\"minorgridcolor\":\"white\",\"startlinecolor\":\"#2a3f5f\"},\"type\":\"carpet\"}],\"choropleth\":[{\"colorbar\":{\"outlinewidth\":0,\"ticks\":\"\"},\"type\":\"choropleth\"}],\"contour\":[{\"colorbar\":{\"outlinewidth\":0,\"ticks\":\"\"},\"colorscale\":[[0.0,\"#0d0887\"],[0.1111111111111111,\"#46039f\"],[0.2222222222222222,\"#7201a8\"],[0.3333333333333333,\"#9c179e\"],[0.4444444444444444,\"#bd3786\"],[0.5555555555555556,\"#d8576b\"],[0.6666666666666666,\"#ed7953\"],[0.7777777777777778,\"#fb9f3a\"],[0.8888888888888888,\"#fdca26\"],[1.0,\"#f0f921\"]],\"type\":\"contour\"}],\"contourcarpet\":[{\"colorbar\":{\"outlinewidth\":0,\"ticks\":\"\"},\"type\":\"contourcarpet\"}],\"heatmap\":[{\"colorbar\":{\"outlinewidth\":0,\"ticks\":\"\"},\"colorscale\":[[0.0,\"#0d0887\"],[0.1111111111111111,\"#46039f\"],[0.2222222222222222,\"#7201a8\"],[0.3333333333333333,\"#9c179e\"],[0.4444444444444444,\"#bd3786\"],[0.5555555555555556,\"#d8576b\"],[0.6666666666666666,\"#ed7953\"],[0.7777777777777778,\"#fb9f3a\"],[0.8888888888888888,\"#fdca26\"],[1.0,\"#f0f921\"]],\"type\":\"heatmap\"}],\"heatmapgl\":[{\"colorbar\":{\"outlinewidth\":0,\"ticks\":\"\"},\"colorscale\":[[0.0,\"#0d0887\"],[0.1111111111111111,\"#46039f\"],[0.2222222222222222,\"#7201a8\"],[0.3333333333333333,\"#9c179e\"],[0.4444444444444444,\"#bd3786\"],[0.5555555555555556,\"#d8576b\"],[0.6666666666666666,\"#ed7953\"],[0.7777777777777778,\"#fb9f3a\"],[0.8888888888888888,\"#fdca26\"],[1.0,\"#f0f921\"]],\"type\":\"heatmapgl\"}],\"histogram\":[{\"marker\":{\"pattern\":{\"fillmode\":\"overlay\",\"size\":10,\"solidity\":0.2}},\"type\":\"histogram\"}],\"histogram2d\":[{\"colorbar\":{\"outlinewidth\":0,\"ticks\":\"\"},\"colorscale\":[[0.0,\"#0d0887\"],[0.1111111111111111,\"#46039f\"],[0.2222222222222222,\"#7201a8\"],[0.3333333333333333,\"#9c179e\"],[0.4444444444444444,\"#bd3786\"],[0.5555555555555556,\"#d8576b\"],[0.6666666666666666,\"#ed7953\"],[0.7777777777777778,\"#fb9f3a\"],[0.8888888888888888,\"#fdca26\"],[1.0,\"#f0f921\"]],\"type\":\"histogram2d\"}],\"histogram2dcontour\":[{\"colorbar\":{\"outlinewidth\":0,\"ticks\":\"\"},\"colorscale\":[[0.0,\"#0d0887\"],[0.1111111111111111,\"#46039f\"],[0.2222222222222222,\"#7201a8\"],[0.3333333333333333,\"#9c179e\"],[0.4444444444444444,\"#bd3786\"],[0.5555555555555556,\"#d8576b\"],[0.6666666666666666,\"#ed7953\"],[0.7777777777777778,\"#fb9f3a\"],[0.8888888888888888,\"#fdca26\"],[1.0,\"#f0f921\"]],\"type\":\"histogram2dcontour\"}],\"mesh3d\":[{\"colorbar\":{\"outlinewidth\":0,\"ticks\":\"\"},\"type\":\"mesh3d\"}],\"parcoords\":[{\"line\":{\"colorbar\":{\"outlinewidth\":0,\"ticks\":\"\"}},\"type\":\"parcoords\"}],\"pie\":[{\"automargin\":true,\"type\":\"pie\"}],\"scatter\":[{\"marker\":{\"colorbar\":{\"outlinewidth\":0,\"ticks\":\"\"}},\"type\":\"scatter\"}],\"scatter3d\":[{\"line\":{\"colorbar\":{\"outlinewidth\":0,\"ticks\":\"\"}},\"marker\":{\"colorbar\":{\"outlinewidth\":0,\"ticks\":\"\"}},\"type\":\"scatter3d\"}],\"scattercarpet\":[{\"marker\":{\"colorbar\":{\"outlinewidth\":0,\"ticks\":\"\"}},\"type\":\"scattercarpet\"}],\"scattergeo\":[{\"marker\":{\"colorbar\":{\"outlinewidth\":0,\"ticks\":\"\"}},\"type\":\"scattergeo\"}],\"scattergl\":[{\"marker\":{\"colorbar\":{\"outlinewidth\":0,\"ticks\":\"\"}},\"type\":\"scattergl\"}],\"scattermapbox\":[{\"marker\":{\"colorbar\":{\"outlinewidth\":0,\"ticks\":\"\"}},\"type\":\"scattermapbox\"}],\"scatterpolar\":[{\"marker\":{\"colorbar\":{\"outlinewidth\":0,\"ticks\":\"\"}},\"type\":\"scatterpolar\"}],\"scatterpolargl\":[{\"marker\":{\"colorbar\":{\"outlinewidth\":0,\"ticks\":\"\"}},\"type\":\"scatterpolargl\"}],\"scatterternary\":[{\"marker\":{\"colorbar\":{\"outlinewidth\":0,\"ticks\":\"\"}},\"type\":\"scatterternary\"}],\"surface\":[{\"colorbar\":{\"outlinewidth\":0,\"ticks\":\"\"},\"colorscale\":[[0.0,\"#0d0887\"],[0.1111111111111111,\"#46039f\"],[0.2222222222222222,\"#7201a8\"],[0.3333333333333333,\"#9c179e\"],[0.4444444444444444,\"#bd3786\"],[0.5555555555555556,\"#d8576b\"],[0.6666666666666666,\"#ed7953\"],[0.7777777777777778,\"#fb9f3a\"],[0.8888888888888888,\"#fdca26\"],[1.0,\"#f0f921\"]],\"type\":\"surface\"}],\"table\":[{\"cells\":{\"fill\":{\"color\":\"#EBF0F8\"},\"line\":{\"color\":\"white\"}},\"header\":{\"fill\":{\"color\":\"#C8D4E3\"},\"line\":{\"color\":\"white\"}},\"type\":\"table\"}]},\"layout\":{\"annotationdefaults\":{\"arrowcolor\":\"#2a3f5f\",\"arrowhead\":0,\"arrowwidth\":1},\"autotypenumbers\":\"strict\",\"coloraxis\":{\"colorbar\":{\"outlinewidth\":0,\"ticks\":\"\"}},\"colorscale\":{\"diverging\":[[0,\"#8e0152\"],[0.1,\"#c51b7d\"],[0.2,\"#de77ae\"],[0.3,\"#f1b6da\"],[0.4,\"#fde0ef\"],[0.5,\"#f7f7f7\"],[0.6,\"#e6f5d0\"],[0.7,\"#b8e186\"],[0.8,\"#7fbc41\"],[0.9,\"#4d9221\"],[1,\"#276419\"]],\"sequential\":[[0.0,\"#0d0887\"],[0.1111111111111111,\"#46039f\"],[0.2222222222222222,\"#7201a8\"],[0.3333333333333333,\"#9c179e\"],[0.4444444444444444,\"#bd3786\"],[0.5555555555555556,\"#d8576b\"],[0.6666666666666666,\"#ed7953\"],[0.7777777777777778,\"#fb9f3a\"],[0.8888888888888888,\"#fdca26\"],[1.0,\"#f0f921\"]],\"sequentialminus\":[[0.0,\"#0d0887\"],[0.1111111111111111,\"#46039f\"],[0.2222222222222222,\"#7201a8\"],[0.3333333333333333,\"#9c179e\"],[0.4444444444444444,\"#bd3786\"],[0.5555555555555556,\"#d8576b\"],[0.6666666666666666,\"#ed7953\"],[0.7777777777777778,\"#fb9f3a\"],[0.8888888888888888,\"#fdca26\"],[1.0,\"#f0f921\"]]},\"colorway\":[\"#636efa\",\"#EF553B\",\"#00cc96\",\"#ab63fa\",\"#FFA15A\",\"#19d3f3\",\"#FF6692\",\"#B6E880\",\"#FF97FF\",\"#FECB52\"],\"font\":{\"color\":\"#2a3f5f\"},\"geo\":{\"bgcolor\":\"white\",\"lakecolor\":\"white\",\"landcolor\":\"#E5ECF6\",\"showlakes\":true,\"showland\":true,\"subunitcolor\":\"white\"},\"hoverlabel\":{\"align\":\"left\"},\"hovermode\":\"closest\",\"mapbox\":{\"style\":\"light\"},\"paper_bgcolor\":\"white\",\"plot_bgcolor\":\"#E5ECF6\",\"polar\":{\"angularaxis\":{\"gridcolor\":\"white\",\"linecolor\":\"white\",\"ticks\":\"\"},\"bgcolor\":\"#E5ECF6\",\"radialaxis\":{\"gridcolor\":\"white\",\"linecolor\":\"white\",\"ticks\":\"\"}},\"scene\":{\"xaxis\":{\"backgroundcolor\":\"#E5ECF6\",\"gridcolor\":\"white\",\"gridwidth\":2,\"linecolor\":\"white\",\"showbackground\":true,\"ticks\":\"\",\"zerolinecolor\":\"white\"},\"yaxis\":{\"backgroundcolor\":\"#E5ECF6\",\"gridcolor\":\"white\",\"gridwidth\":2,\"linecolor\":\"white\",\"showbackground\":true,\"ticks\":\"\",\"zerolinecolor\":\"white\"},\"zaxis\":{\"backgroundcolor\":\"#E5ECF6\",\"gridcolor\":\"white\",\"gridwidth\":2,\"linecolor\":\"white\",\"showbackground\":true,\"ticks\":\"\",\"zerolinecolor\":\"white\"}},\"shapedefaults\":{\"line\":{\"color\":\"#2a3f5f\"}},\"ternary\":{\"aaxis\":{\"gridcolor\":\"white\",\"linecolor\":\"white\",\"ticks\":\"\"},\"baxis\":{\"gridcolor\":\"white\",\"linecolor\":\"white\",\"ticks\":\"\"},\"bgcolor\":\"#E5ECF6\",\"caxis\":{\"gridcolor\":\"white\",\"linecolor\":\"white\",\"ticks\":\"\"}},\"title\":{\"x\":0.05},\"xaxis\":{\"automargin\":true,\"gridcolor\":\"white\",\"linecolor\":\"white\",\"ticks\":\"\",\"title\":{\"standoff\":15},\"zerolinecolor\":\"white\",\"zerolinewidth\":2},\"yaxis\":{\"automargin\":true,\"gridcolor\":\"white\",\"linecolor\":\"white\",\"ticks\":\"\",\"title\":{\"standoff\":15},\"zerolinecolor\":\"white\",\"zerolinewidth\":2}}},\"yaxis\":{\"range\":[40,138],\"title\":{\"text\":\"Glucose (mg/dL)\"}},\"xaxis\":{\"title\":{\"text\":\"Year\"}},\"title\":{\"text\":\"Changes in My Glucose Levels Over The Years\"},\"hovermode\":\"x\"},                        {\"responsive\": true}                    ).then(function(){\n",
       "                            \n",
       "var gd = document.getElementById('1fdc4451-a3e2-4754-954f-d8d5ed5757a1');\n",
       "var x = new MutationObserver(function (mutations, observer) {{\n",
       "        var display = window.getComputedStyle(gd).display;\n",
       "        if (!display || display === 'none') {{\n",
       "            console.log([gd, 'removed!']);\n",
       "            Plotly.purge(gd);\n",
       "            observer.disconnect();\n",
       "        }}\n",
       "}});\n",
       "\n",
       "// Listen for the removal of the full notebook cells\n",
       "var notebookContainer = gd.closest('#notebook-container');\n",
       "if (notebookContainer) {{\n",
       "    x.observe(notebookContainer, {childList: true});\n",
       "}}\n",
       "\n",
       "// Listen for the clearing of the current output cell\n",
       "var outputEl = gd.closest('.output');\n",
       "if (outputEl) {{\n",
       "    x.observe(outputEl, {childList: true});\n",
       "}}\n",
       "\n",
       "                        })                };                });            </script>        </div>"
      ]
     },
     "metadata": {},
     "output_type": "display_data"
    }
   ],
   "source": [
    "OPTION = 'Glucose'\n",
    "# OPTION = 'Total Cholesterol'\n",
    "# OPTION = 'HDL Cholesterol'\n",
    "# OPTION = 'LDL Cholesterol'\n",
    "# OPTION = 'Triglycerides'\n",
    "    \n",
    "plot(OPTION)"
   ]
  }
 ],
 "metadata": {
  "kernelspec": {
   "display_name": "Python 3",
   "language": "python",
   "name": "python3"
  },
  "language_info": {
   "codemirror_mode": {
    "name": "ipython",
    "version": 3
   },
   "file_extension": ".py",
   "mimetype": "text/x-python",
   "name": "python",
   "nbconvert_exporter": "python",
   "pygments_lexer": "ipython3",
   "version": "3.8.8"
  }
 },
 "nbformat": 4,
 "nbformat_minor": 5
}
